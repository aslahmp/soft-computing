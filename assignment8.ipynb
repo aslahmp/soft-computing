{
 "cells": [
  {
   "cell_type": "code",
   "execution_count": 9,
   "metadata": {},
   "outputs": [
    {
     "name": "stdout",
     "output_type": "stream",
     "text": [
      "Collecting matplotlib\n",
      "  Downloading matplotlib-3.9.2-cp310-cp310-macosx_11_0_arm64.whl.metadata (11 kB)\n",
      "Collecting contourpy>=1.0.1 (from matplotlib)\n",
      "  Downloading contourpy-1.3.0-cp310-cp310-macosx_11_0_arm64.whl.metadata (5.4 kB)\n",
      "Collecting cycler>=0.10 (from matplotlib)\n",
      "  Downloading cycler-0.12.1-py3-none-any.whl.metadata (3.8 kB)\n",
      "Collecting fonttools>=4.22.0 (from matplotlib)\n",
      "  Downloading fonttools-4.54.1-cp310-cp310-macosx_11_0_arm64.whl.metadata (163 kB)\n",
      "\u001b[2K     \u001b[90m━━━━━━━━━━━━━━━━━━━━━━━━━━━━━━━━━━━━━\u001b[0m \u001b[32m163.7/163.7 kB\u001b[0m \u001b[31m777.2 kB/s\u001b[0m eta \u001b[36m0:00:00\u001b[0ma \u001b[36m0:00:01\u001b[0m\n",
      "\u001b[?25hCollecting kiwisolver>=1.3.1 (from matplotlib)\n",
      "  Downloading kiwisolver-1.4.7-cp310-cp310-macosx_11_0_arm64.whl.metadata (6.3 kB)\n",
      "Requirement already satisfied: numpy>=1.23 in /Users/aslahmp/anaconda3/envs/RL/lib/python3.10/site-packages (from matplotlib) (2.0.1)\n",
      "Requirement already satisfied: packaging>=20.0 in /Users/aslahmp/anaconda3/envs/RL/lib/python3.10/site-packages (from matplotlib) (24.1)\n",
      "Collecting pillow>=8 (from matplotlib)\n",
      "  Downloading pillow-11.0.0-cp310-cp310-macosx_11_0_arm64.whl.metadata (9.1 kB)\n",
      "Collecting pyparsing>=2.3.1 (from matplotlib)\n",
      "  Using cached pyparsing-3.2.0-py3-none-any.whl.metadata (5.0 kB)\n",
      "Requirement already satisfied: python-dateutil>=2.7 in /Users/aslahmp/anaconda3/envs/RL/lib/python3.10/site-packages (from matplotlib) (2.9.0.post0)\n",
      "Requirement already satisfied: six>=1.5 in /Users/aslahmp/anaconda3/envs/RL/lib/python3.10/site-packages (from python-dateutil>=2.7->matplotlib) (1.16.0)\n",
      "Downloading matplotlib-3.9.2-cp310-cp310-macosx_11_0_arm64.whl (7.8 MB)\n",
      "\u001b[2K   \u001b[90m━━━━━━━━━━━━━━━━━━━━━━━━━━━━━━━━━━━━━━━━\u001b[0m \u001b[32m7.8/7.8 MB\u001b[0m \u001b[31m1.7 MB/s\u001b[0m eta \u001b[36m0:00:00\u001b[0m00:01\u001b[0m00:01\u001b[0m\n",
      "\u001b[?25hDownloading contourpy-1.3.0-cp310-cp310-macosx_11_0_arm64.whl (249 kB)\n",
      "\u001b[2K   \u001b[90m━━━━━━━━━━━━━━━━━━━━━━━━━━━━━━━━━━━━━━━━\u001b[0m \u001b[32m249.2/249.2 kB\u001b[0m \u001b[31m2.3 MB/s\u001b[0m eta \u001b[36m0:00:00\u001b[0ma \u001b[36m0:00:01\u001b[0m\n",
      "\u001b[?25hDownloading cycler-0.12.1-py3-none-any.whl (8.3 kB)\n",
      "Downloading fonttools-4.54.1-cp310-cp310-macosx_11_0_arm64.whl (2.3 MB)\n",
      "\u001b[2K   \u001b[90m━━━━━━━━━━━━━━━━━━━━━━━━━━━━━━━━━━━━━━━━\u001b[0m \u001b[32m2.3/2.3 MB\u001b[0m \u001b[31m2.9 MB/s\u001b[0m eta \u001b[36m0:00:00\u001b[0ma \u001b[36m0:00:01\u001b[0m\n",
      "\u001b[?25hDownloading kiwisolver-1.4.7-cp310-cp310-macosx_11_0_arm64.whl (64 kB)\n",
      "\u001b[2K   \u001b[90m━━━━━━━━━━━━━━━━━━━━━━━━━━━━━━━━━━━━━━━━\u001b[0m \u001b[32m64.3/64.3 kB\u001b[0m \u001b[31m2.6 MB/s\u001b[0m eta \u001b[36m0:00:00\u001b[0m\n",
      "\u001b[?25hDownloading pillow-11.0.0-cp310-cp310-macosx_11_0_arm64.whl (3.0 MB)\n",
      "\u001b[2K   \u001b[90m━━━━━━━━━━━━━━━━━━━━━━━━━━━━━━━━━━━━━━━━\u001b[0m \u001b[32m3.0/3.0 MB\u001b[0m \u001b[31m3.2 MB/s\u001b[0m eta \u001b[36m0:00:00\u001b[0m00:01\u001b[0m00:01\u001b[0m\n",
      "\u001b[?25hUsing cached pyparsing-3.2.0-py3-none-any.whl (106 kB)\n",
      "Installing collected packages: pyparsing, pillow, kiwisolver, fonttools, cycler, contourpy, matplotlib\n",
      "Successfully installed contourpy-1.3.0 cycler-0.12.1 fonttools-4.54.1 kiwisolver-1.4.7 matplotlib-3.9.2 pillow-11.0.0 pyparsing-3.2.0\n"
     ]
    }
   ],
   "source": [
    "!pip install matplotlib"
   ]
  },
  {
   "cell_type": "code",
   "execution_count": 12,
   "metadata": {},
   "outputs": [
    {
     "name": "stdout",
     "output_type": "stream",
     "text": [
      "69.80620155038763\n"
     ]
    }
   ],
   "source": [
    "import numpy as np\n",
    "import skfuzzy as fuzz\n",
    "from skfuzzy import control as ctrl\n",
    "\n",
    "\n",
    "# Define the universe of discourse for the inputs and output\n",
    "temperature = ctrl.Antecedent(np.arange(0, 41, 1), 'temperature')\n",
    "humidity = ctrl.Antecedent(np.arange(0, 101, 1), 'humidity')\n",
    "fan_speed = ctrl.Consequent(np.arange(0, 101, 1), 'fan_speed')\n",
    "\n",
    "# Define the membership functions for temperature\n",
    "temperature['cold'] = fuzz.trimf(temperature.universe, [0, 0, 20])\n",
    "temperature['warm'] = fuzz.trimf(temperature.universe, [10, 20, 30])\n",
    "temperature['hot'] = fuzz.trimf(temperature.universe, [20, 40, 40])\n",
    "\n",
    "# Define the membership functions for humidity\n",
    "humidity['low'] = fuzz.trimf(humidity.universe, [0, 0, 50])\n",
    "humidity['medium'] = fuzz.trimf(humidity.universe, [25, 50, 75])\n",
    "humidity['high'] = fuzz.trimf(humidity.universe, [50, 100, 100])\n",
    "\n",
    "# Define the membership functions for fan speed\n",
    "fan_speed['low'] = fuzz.trimf(fan_speed.universe, [0, 0, 50])\n",
    "fan_speed['medium'] = fuzz.trimf(fan_speed.universe, [25, 50, 75])\n",
    "fan_speed['high'] = fuzz.trimf(fan_speed.universe, [50, 100, 100])\n",
    "\n",
    "# Define the fuzzy rules\n",
    "rule1 = ctrl.Rule(temperature['cold'] & humidity['low'], fan_speed['low'])\n",
    "rule2 = ctrl.Rule(temperature['cold'] & humidity['medium'], fan_speed['low'])\n",
    "rule3 = ctrl.Rule(temperature['cold'] & humidity['high'], fan_speed['medium'])\n",
    "rule4 = ctrl.Rule(temperature['warm'] & humidity['low'], fan_speed['low'])\n",
    "rule5 = ctrl.Rule(temperature['warm'] & humidity['medium'], fan_speed['medium'])\n",
    "rule6 = ctrl.Rule(temperature['warm'] & humidity['high'], fan_speed['high'])\n",
    "rule7 = ctrl.Rule(temperature['hot'] & humidity['low'], fan_speed['medium'])\n",
    "rule8 = ctrl.Rule(temperature['hot'] & humidity['medium'], fan_speed['high'])\n",
    "rule9 = ctrl.Rule(temperature['hot'] & humidity['high'], fan_speed['high'])\n",
    "\n",
    "# Create the control system\n",
    "fan_speed_ctrl = ctrl.ControlSystem([rule1, rule2, rule3, rule4, rule5, rule6, rule7, rule8, rule9])\n",
    "fan_speed_simulation = ctrl.ControlSystemSimulation(fan_speed_ctrl)\n",
    "\n",
    "# Input values\n",
    "fan_speed_simulation.input['temperature'] = 25\n",
    "fan_speed_simulation.input['humidity'] = 70\n",
    "\n",
    "# Compute the result\n",
    "fan_speed_simulation.compute()\n",
    "\n",
    "# Output the result\n",
    "print(fan_speed_simulation.output['fan_speed'])\n"
   ]
  },
  {
   "cell_type": "code",
   "execution_count": null,
   "metadata": {},
   "outputs": [],
   "source": []
  }
 ],
 "metadata": {
  "kernelspec": {
   "display_name": "RL",
   "language": "python",
   "name": "python3"
  },
  "language_info": {
   "codemirror_mode": {
    "name": "ipython",
    "version": 3
   },
   "file_extension": ".py",
   "mimetype": "text/x-python",
   "name": "python",
   "nbconvert_exporter": "python",
   "pygments_lexer": "ipython3",
   "version": "3.10.14"
  }
 },
 "nbformat": 4,
 "nbformat_minor": 2
}
