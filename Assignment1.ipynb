{
 "cells": [
  {
   "cell_type": "markdown",
   "id": "75052cef",
   "metadata": {},
   "source": [
    "1. Write a Python program to read a value from a csv file and output\n",
    "its contents."
   ]
  },
  {
   "cell_type": "code",
   "execution_count": 14,
   "id": "3db744d6",
   "metadata": {},
   "outputs": [
    {
     "name": "stdout",
     "output_type": "stream",
     "text": [
      "      Feature1  Feature2 Target\n",
      "0       1.7250       520    Yes\n",
      "1       1.8875       428     No\n",
      "2       1.6000       552    Yes\n",
      "3       1.4250       500     No\n",
      "4       1.7750       628     No\n",
      "...        ...       ...    ...\n",
      "1015    1.8500       492     No\n",
      "1016    1.7375       412     No\n",
      "1017    1.6375       444     No\n",
      "1018    1.6625       632     No\n",
      "1019    1.5875       628     No\n",
      "\n",
      "[1020 rows x 3 columns]\n"
     ]
    }
   ],
   "source": [
    "import pandas as pd\n",
    "data=pd.read_csv('binary_classification_dataset.csv')\n",
    "print(data)"
   ]
  },
  {
   "cell_type": "markdown",
   "id": "3d5cca58",
   "metadata": {},
   "source": [
    "2. Write a Python program to create a list that reads values from the\n",
    "user, and allows the user to output its contents from specified\n",
    "position in the list."
   ]
  },
  {
   "cell_type": "code",
   "execution_count": 3,
   "id": "c687d4d2",
   "metadata": {},
   "outputs": [
    {
     "name": "stdout",
     "output_type": "stream",
     "text": [
      "Enter the Category Name:\n",
      "Do you want to add more Categories? (Y/N)\n",
      "Enter the Category Name:\n",
      "Do you want to add more Categories? (Y/N)\n",
      "Enter the Category Name:\n",
      "Do you want to add more Categories? (Y/N)\n",
      "['ring', 'stud', 'bangle']\n"
     ]
    }
   ],
   "source": [
    "isRead=True\n",
    "ls=[]\n",
    "while isRead:\n",
    "    print(\"Enter the Category Name:\")\n",
    "    category=input()\n",
    "    ls.append(category)\n",
    "    print(\"Do you want to add more Categories? (Y/N)\")\n",
    "    choice=input()\n",
    "    if choice=='N':\n",
    "        isRead=False\n",
    "print(ls)"
   ]
  },
  {
   "cell_type": "markdown",
   "id": "d176a358",
   "metadata": {},
   "source": [
    "3. Write a Python program to create a table that reads values from\n",
    "the user, and allows the user to output its contents from specified\n",
    "positions in the table."
   ]
  },
  {
   "cell_type": "code",
   "execution_count": 11,
   "id": "568a6803",
   "metadata": {},
   "outputs": [
    {
     "name": "stdout",
     "output_type": "stream",
     "text": [
      "Enter the Name:\n",
      "Do you want to add more rows? (Y/N)\n",
      "Enter the Name:\n",
      "Do you want to add more rows? (Y/N)\n",
      "Enter the Name:\n",
      "Do you want to add more rows? (Y/N)\n",
      "     name   createdAt\n",
      "0    stud  08/23/2024\n",
      "1  bangle  08/23/2024\n",
      "2    ring  08/23/2024\n"
     ]
    }
   ],
   "source": [
    "import pandas as pd\n",
    "import datetime\n",
    "\n",
    "data = []\n",
    "isRead = True\n",
    "\n",
    "while isRead:\n",
    "  \n",
    "    print(\"Enter the Name:\")\n",
    "    name_val = input()\n",
    "\n",
    "    created_at_val = datetime.datetime.now().strftime('%m/%d/%Y')\n",
    "    \n",
    "    data.append({ 'name': name_val, 'createdAt': created_at_val,})\n",
    "    \n",
    "    print(\"Do you want to add more rows? (Y/N)\")\n",
    "    choice = input()\n",
    "    if choice == 'N':\n",
    "        isRead = False\n",
    "\n",
    "df = pd.DataFrame(data)\n",
    "print(df)"
   ]
  },
  {
   "cell_type": "code",
   "execution_count": 13,
   "id": "eedd3d77",
   "metadata": {},
   "outputs": [
    {
     "name": "stdout",
     "output_type": "stream",
     "text": [
      "Enter the position do you want:\n",
      "name             bangle\n",
      "createdAt    08/23/2024\n",
      "Name: 1, dtype: object\n",
      "Do you want to show more rows? (Y/N)\n",
      "Enter the position do you want:\n",
      "name               stud\n",
      "createdAt    08/23/2024\n",
      "Name: 0, dtype: object\n",
      "Do you want to show more rows? (Y/N)\n"
     ]
    }
   ],
   "source": [
    "isRead = True\n",
    "while isRead:\n",
    "    print(\"Enter the position do you want:\")\n",
    "    id_val = int(input())\n",
    "    print(df.loc[id_val, ['name', 'createdAt']])\n",
    "    print(\"Do you want to show more rows? (Y/N)\")\n",
    "    choice = input()\n",
    "    if choice == 'N':\n",
    "        isRead = False\n",
    "    \n"
   ]
  }
 ],
 "metadata": {
  "kernelspec": {
   "display_name": "Python 3 (ipykernel)",
   "language": "python",
   "name": "python3"
  },
  "language_info": {
   "codemirror_mode": {
    "name": "ipython",
    "version": 3
   },
   "file_extension": ".py",
   "mimetype": "text/x-python",
   "name": "python",
   "nbconvert_exporter": "python",
   "pygments_lexer": "ipython3",
   "version": "3.11.5"
  }
 },
 "nbformat": 4,
 "nbformat_minor": 5
}
