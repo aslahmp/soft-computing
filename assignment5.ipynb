{
 "cells": [
  {
   "cell_type": "markdown",
   "metadata": {},
   "source": [
    "1"
   ]
  },
  {
   "cell_type": "code",
   "execution_count": 14,
   "metadata": {},
   "outputs": [],
   "source": [
    "from itertools import product\n",
    "truth_values = [True, False]\n",
    "\n",
    "def implication(P, Q):\n",
    "    return not P or Q\n",
    "def truth_table_implication():\n",
    "    print(\"Truth Table for P => Q\")\n",
    "    print(\"P\\tQ\\tP => Q\")\n",
    "    for P, Q in product(truth_values, repeat=2):\n",
    "        print(f\"{P}\\t{Q}\\t{implication(P, Q)}\")\n",
    "def negation(P):\n",
    "    return not P\n",
    "def disjunction(P, Q):\n",
    "    return P or Q\n",
    "def is_tautology():\n",
    "    print(\"\\nChecking if (P v Q) => (~P) is a tautology\")\n",
    "    tautology = True\n",
    "    for P, Q in product(truth_values, repeat=2):\n",
    "        formula = implication(disjunction(P, Q), negation(P))\n",
    "        if not formula:\n",
    "            tautology = False\n",
    "        print(f\"P={P}, Q={Q}: (P v Q) => (~P) = {formula}\")\n",
    "    if tautology:\n",
    "        print(\"The formula (P v Q) => (~P) is a tautology.\")\n",
    "    else:\n",
    "        print(\"The formula (P v Q) => (~P) is not a tautology.\")\n",
    "def are_equivalent():\n",
    "    print(\"\\nChecking if (P => Q) is equivalent to (~P v Q)\")\n",
    "    equivalent = True\n",
    "    for P, Q in product(truth_values, repeat=2):\n",
    "        prop1 = implication(P, Q)\n",
    "        prop2 = disjunction(negation(P), Q)\n",
    "        if prop1 != prop2:\n",
    "            equivalent = False\n",
    "        print(f\"P={P}, Q={Q}: (P => Q) = {prop1}, (~P v Q) = {prop2}\")\n",
    "    if equivalent:\n",
    "        print(\"The propositions (P => Q) and (~P v Q) are equivalent.\")\n",
    "    else:\n",
    "        print(\"The propositions (P => Q) and (~P v Q) are not equivalent.\")"
   ]
  },
  {
   "cell_type": "code",
   "execution_count": 15,
   "metadata": {},
   "outputs": [
    {
     "name": "stdout",
     "output_type": "stream",
     "text": [
      "Truth Table for P => Q\n",
      "P\tQ\tP => Q\n",
      "True\tTrue\tTrue\n",
      "True\tFalse\tFalse\n",
      "False\tTrue\tTrue\n",
      "False\tFalse\tTrue\n"
     ]
    }
   ],
   "source": [
    "#  Generate the truth table for the propositional logic connective P=>Q\n",
    "truth_table_implication()"
   ]
  },
  {
   "cell_type": "code",
   "execution_count": 16,
   "metadata": {},
   "outputs": [
    {
     "name": "stdout",
     "output_type": "stream",
     "text": [
      "\n",
      "Checking if (P v Q) => (~P) is a tautology\n",
      "P=True, Q=True: (P v Q) => (~P) = False\n",
      "P=True, Q=False: (P v Q) => (~P) = False\n",
      "P=False, Q=True: (P v Q) => (~P) = True\n",
      "P=False, Q=False: (P v Q) => (~P) = True\n",
      "The formula (P v Q) => (~P) is not a tautology.\n"
     ]
    }
   ],
   "source": [
    "# b. Check if the formula (P v Q) => (~P) is a tautology\n",
    "is_tautology()"
   ]
  },
  {
   "cell_type": "code",
   "execution_count": 17,
   "metadata": {},
   "outputs": [
    {
     "name": "stdout",
     "output_type": "stream",
     "text": [
      "\n",
      "Checking if (P => Q) is equivalent to (~P v Q)\n",
      "P=True, Q=True: (P => Q) = True, (~P v Q) = True\n",
      "P=True, Q=False: (P => Q) = False, (~P v Q) = False\n",
      "P=False, Q=True: (P => Q) = True, (~P v Q) = True\n",
      "P=False, Q=False: (P => Q) = True, (~P v Q) = True\n",
      "The propositions (P => Q) and (~P v Q) are equivalent.\n"
     ]
    }
   ],
   "source": [
    "# c. Check if the propositions (P=>Q) and (~P v Q) are equivalent\n",
    "are_equivalent()"
   ]
  },
  {
   "cell_type": "markdown",
   "metadata": {},
   "source": [
    "2"
   ]
  },
  {
   "cell_type": "code",
   "execution_count": 4,
   "metadata": {},
   "outputs": [
    {
     "name": "stdout",
     "output_type": "stream",
     "text": [
      "Collecting scikit-fuzzy\n",
      "  Obtaining dependency information for scikit-fuzzy from https://files.pythonhosted.org/packages/9d/06/da70811f95c4a3bada55e7b20c957548a4d9bc21150916f0c024286d67c7/scikit_fuzzy-0.5.0-py2.py3-none-any.whl.metadata\n",
      "  Downloading scikit_fuzzy-0.5.0-py2.py3-none-any.whl.metadata (2.6 kB)\n",
      "Downloading scikit_fuzzy-0.5.0-py2.py3-none-any.whl (920 kB)\n",
      "\u001b[2K   \u001b[90m━━━━━━━━━━━━━━━━━━━━━━━━━━━━━━━━━━━━━━━━\u001b[0m \u001b[32m920.8/920.8 kB\u001b[0m \u001b[31m4.2 MB/s\u001b[0m eta \u001b[36m0:00:00\u001b[0ma \u001b[36m0:00:01\u001b[0m\n",
      "\u001b[?25hInstalling collected packages: scikit-fuzzy\n",
      "Successfully installed scikit-fuzzy-0.5.0\n",
      "Note: you may need to restart the kernel to use updated packages.\n"
     ]
    }
   ],
   "source": [
    "pip install scikit-fuzzy"
   ]
  },
  {
   "cell_type": "code",
   "execution_count": 5,
   "metadata": {},
   "outputs": [
    {
     "name": "stdout",
     "output_type": "stream",
     "text": [
      "Weather condition: 69.80620155038763\n"
     ]
    }
   ],
   "source": [
    "import numpy as np\n",
    "import skfuzzy as fuzz\n",
    "from skfuzzy import control as ctrl\n",
    "temperature = ctrl.Antecedent(np.arange(0, 41, 1), 'temperature')\n",
    "humidity = ctrl.Antecedent(np.arange(0, 101, 1), 'humidity')\n",
    "weather = ctrl.Consequent(np.arange(0, 101, 1), 'weather')\n",
    "temperature['cold'] = fuzz.trimf(temperature.universe, [0, 0, 20])\n",
    "temperature['warm'] = fuzz.trimf(temperature.universe, [10, 20, 30])\n",
    "temperature['hot'] = fuzz.trimf(temperature.universe, [20, 40, 40])\n",
    "humidity['low'] = fuzz.trimf(humidity.universe, [0, 0, 50])\n",
    "humidity['medium'] = fuzz.trimf(humidity.universe, [25, 50, 75])\n",
    "humidity['high'] = fuzz.trimf(humidity.universe, [50, 100, 100])\n",
    "weather['cold'] = fuzz.trimf(weather.universe, [0, 0, 50])\n",
    "weather['warm'] = fuzz.trimf(weather.universe, [25, 50, 75])\n",
    "weather['hot'] = fuzz.trimf(weather.universe, [50, 100, 100])\n",
    "rule1 = ctrl.Rule(temperature['cold'] & humidity['low'], weather['cold'])\n",
    "rule2 = ctrl.Rule(temperature['cold'] & humidity['medium'], weather['cold'])\n",
    "rule3 = ctrl.Rule(temperature['cold'] & humidity['high'], weather['warm'])\n",
    "rule4 = ctrl.Rule(temperature['warm'] & humidity['low'], weather['warm'])\n",
    "rule5 = ctrl.Rule(temperature['warm'] & humidity['medium'], weather['warm'])\n",
    "rule6 = ctrl.Rule(temperature['warm'] & humidity['high'], weather['hot'])\n",
    "rule7 = ctrl.Rule(temperature['hot'] & humidity['low'], weather['hot'])\n",
    "rule8 = ctrl.Rule(temperature['hot'] & humidity['medium'], weather['hot'])\n",
    "rule9 = ctrl.Rule(temperature['hot'] & humidity['high'], weather['hot'])\n",
    "weather_ctrl = ctrl.ControlSystem([rule1, rule2, rule3, rule4, rule5, rule6, rule7, rule8, rule9])\n",
    "weather_simulation = ctrl.ControlSystemSimulation(weather_ctrl)\n",
    "weather_simulation.input['temperature'] = 25\n",
    "weather_simulation.input['humidity'] = 70\n",
    "weather_simulation.compute()\n",
    "print(f\"Weather condition: {weather_simulation.output['weather']}\")"
   ]
  }
 ],
 "metadata": {
  "kernelspec": {
   "display_name": "Python 3",
   "language": "python",
   "name": "python3"
  },
  "language_info": {
   "codemirror_mode": {
    "name": "ipython",
    "version": 3
   },
   "file_extension": ".py",
   "mimetype": "text/x-python",
   "name": "python",
   "nbconvert_exporter": "python",
   "pygments_lexer": "ipython3",
   "version": "3.11.5"
  }
 },
 "nbformat": 4,
 "nbformat_minor": 2
}
